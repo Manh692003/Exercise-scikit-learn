{
 "cells": [
  {
   "cell_type": "code",
   "execution_count": 14,
   "id": "fa408fe0",
   "metadata": {},
   "outputs": [],
   "source": [
    "import pandas as pd\n",
    "import numpy as np\n",
    "import seaborn as sns\n",
    "from sklearn import linear_model, impute"
   ]
  },
  {
   "cell_type": "code",
   "execution_count": 4,
   "id": "5509fa12",
   "metadata": {},
   "outputs": [
    {
     "data": {
      "text/html": [
       "<div>\n",
       "<style scoped>\n",
       "    .dataframe tbody tr th:only-of-type {\n",
       "        vertical-align: middle;\n",
       "    }\n",
       "\n",
       "    .dataframe tbody tr th {\n",
       "        vertical-align: top;\n",
       "    }\n",
       "\n",
       "    .dataframe thead th {\n",
       "        text-align: right;\n",
       "    }\n",
       "</style>\n",
       "<table border=\"1\" class=\"dataframe\">\n",
       "  <thead>\n",
       "    <tr style=\"text-align: right;\">\n",
       "      <th></th>\n",
       "      <th>Test score</th>\n",
       "      <th>IQ test score</th>\n",
       "      <th>English score</th>\n",
       "      <th>Interview score</th>\n",
       "      <th>Years of experiences</th>\n",
       "      <th>Salary($) per month</th>\n",
       "    </tr>\n",
       "  </thead>\n",
       "  <tbody>\n",
       "    <tr>\n",
       "      <th>0</th>\n",
       "      <td>3.0</td>\n",
       "      <td>9</td>\n",
       "      <td>8.0</td>\n",
       "      <td>7</td>\n",
       "      <td>1.0</td>\n",
       "      <td>2300</td>\n",
       "    </tr>\n",
       "    <tr>\n",
       "      <th>1</th>\n",
       "      <td>4.0</td>\n",
       "      <td>8</td>\n",
       "      <td>10.0</td>\n",
       "      <td>10</td>\n",
       "      <td>3.0</td>\n",
       "      <td>5000</td>\n",
       "    </tr>\n",
       "    <tr>\n",
       "      <th>2</th>\n",
       "      <td>5.0</td>\n",
       "      <td>5</td>\n",
       "      <td>5.0</td>\n",
       "      <td>6</td>\n",
       "      <td>2.0</td>\n",
       "      <td>2400</td>\n",
       "    </tr>\n",
       "    <tr>\n",
       "      <th>3</th>\n",
       "      <td>6.0</td>\n",
       "      <td>6</td>\n",
       "      <td>7.0</td>\n",
       "      <td>8</td>\n",
       "      <td>2.0</td>\n",
       "      <td>2500</td>\n",
       "    </tr>\n",
       "    <tr>\n",
       "      <th>4</th>\n",
       "      <td>10.0</td>\n",
       "      <td>10</td>\n",
       "      <td>10.0</td>\n",
       "      <td>10</td>\n",
       "      <td>2.0</td>\n",
       "      <td>7000</td>\n",
       "    </tr>\n",
       "  </tbody>\n",
       "</table>\n",
       "</div>"
      ],
      "text/plain": [
       "   Test score   IQ test score  English score  Interview score  \\\n",
       "0          3.0              9            8.0                7   \n",
       "1          4.0              8           10.0               10   \n",
       "2          5.0              5            5.0                6   \n",
       "3          6.0              6            7.0                8   \n",
       "4         10.0             10           10.0               10   \n",
       "\n",
       "   Years of experiences  Salary($) per month  \n",
       "0                   1.0                 2300  \n",
       "1                   3.0                 5000  \n",
       "2                   2.0                 2400  \n",
       "3                   2.0                 2500  \n",
       "4                   2.0                 7000  "
      ]
     },
     "execution_count": 4,
     "metadata": {},
     "output_type": "execute_result"
    }
   ],
   "source": [
    "df = pd.read_csv('HiringProcessNaN.csv')\n",
    "df.head()"
   ]
  },
  {
   "cell_type": "code",
   "execution_count": 9,
   "id": "a493681e",
   "metadata": {},
   "outputs": [
    {
     "data": {
      "image/png": "[encoded data removed]",
      "text/plain": [
       "<Figure size 640x480 with 1 Axes>"
      ]
     },
     "metadata": {},
     "output_type": "display_data"
    }
   ],
   "source": [
    "sns.heatmap(df.isna(), cbar=False, yticklabels=False, cmap='RdPu');"
   ]
  },
  {
   "cell_type": "code",
   "execution_count": 60,
   "id": "0fce636b",
   "metadata": {},
   "outputs": [
    {
     "name": "stdout",
     "output_type": "stream",
     "text": [
      "Test score  - True\n",
      "English score - True\n",
      "Years of experiences - True\n"
     ]
    }
   ],
   "source": [
    "for key, value in (df.isna().any()).items():\n",
    "    if value == True:\n",
    "        print(f'{key} - {value}')"
   ]
  },
  {
   "cell_type": "code",
   "execution_count": 11,
   "id": "b4b1a21b",
   "metadata": {},
   "outputs": [
    {
     "data": {
      "text/plain": [
       "(array([[ 3.,  9.,  8.,  7.,  1.],\n",
       "        [ 4.,  8., 10., 10.,  3.],\n",
       "        [ 5.,  5.,  5.,  6.,  2.],\n",
       "        [ 6.,  6.,  7.,  8.,  2.],\n",
       "        [10., 10., 10., 10.,  2.],\n",
       "        [ 8.,  9., 10.,  9.,  1.],\n",
       "        [nan,  7.,  9.,  8.,  2.],\n",
       "        [ 4.,  4., nan,  7.,  2.],\n",
       "        [ 6.,  7.,  6.,  6.,  3.],\n",
       "        [ 7.,  6.,  6.,  5., nan],\n",
       "        [ 4.,  7.,  5.,  6.,  1.],\n",
       "        [ 5.,  7.,  6.,  7.,  2.],\n",
       "        [ 8.,  7.,  8.,  7.,  2.],\n",
       "        [ 7.,  7.,  7.,  7.,  1.],\n",
       "        [ 9.,  9.,  4.,  4.,  2.]]),\n",
       " array([2300, 5000, 2400, 2500, 7000, 6500, 6200, 2100, 4000, 2700, 2400,\n",
       "        2500, 5600, 5400, 5000], dtype=int64))"
      ]
     },
     "execution_count": 11,
     "metadata": {},
     "output_type": "execute_result"
    }
   ],
   "source": [
    "x = df.iloc[:, :-1].values\n",
    "y = df.iloc[:, -1].values\n",
    "x, y"
   ]
  },
  {
   "cell_type": "code",
   "execution_count": 50,
   "id": "1a0ec5f3",
   "metadata": {},
   "outputs": [
    {
     "data": {
      "text/plain": [
       "array([[ 3.        ,  9.        ,  8.        ,  7.        ,  1.        ],\n",
       "       [ 4.        ,  8.        , 10.        , 10.        ,  3.        ],\n",
       "       [ 5.        ,  5.        ,  5.        ,  6.        ,  2.        ],\n",
       "       [ 6.        ,  6.        ,  7.        ,  8.        ,  2.        ],\n",
       "       [10.        , 10.        , 10.        , 10.        ,  2.        ],\n",
       "       [ 8.        ,  9.        , 10.        ,  9.        ,  1.        ],\n",
       "       [ 6.14285714,  7.        ,  9.        ,  8.        ,  2.        ],\n",
       "       [ 4.        ,  4.        ,  7.21428571,  7.        ,  2.        ],\n",
       "       [ 6.        ,  7.        ,  6.        ,  6.        ,  3.        ],\n",
       "       [ 7.        ,  6.        ,  6.        ,  5.        ,  1.85714286],\n",
       "       [ 4.        ,  7.        ,  5.        ,  6.        ,  1.        ],\n",
       "       [ 5.        ,  7.        ,  6.        ,  7.        ,  2.        ],\n",
       "       [ 8.        ,  7.        ,  8.        ,  7.        ,  2.        ],\n",
       "       [ 7.        ,  7.        ,  7.        ,  7.        ,  1.        ],\n",
       "       [ 9.        ,  9.        ,  4.        ,  4.        ,  2.        ]])"
      ]
     },
     "execution_count": 50,
     "metadata": {},
     "output_type": "execute_result"
    }
   ],
   "source": [
    "si = impute.SimpleImputer(missing_values=np.nan, strategy='mean')\n",
    "si.fit(x[:, :])\n",
    "x[:, :] = si.transform(x[:, :])\n",
    "x"
   ]
  },
  {
   "cell_type": "code",
   "execution_count": 51,
   "id": "7d4bb4a1",
   "metadata": {},
   "outputs": [
    {
     "data": {
      "text/plain": [
       "LinearRegression()"
      ]
     },
     "execution_count": 51,
     "metadata": {},
     "output_type": "execute_result"
    }
   ],
   "source": [
    "# lr = linear_model.LinearRegression()\n",
    "\n",
    "lr.fit(x, y)"
   ]
  },
  {
   "cell_type": "code",
   "execution_count": 52,
   "id": "32a16f10",
   "metadata": {},
   "outputs": [
    {
     "data": {
      "text/plain": [
       "(array([ 495.57687219,  212.72586504,  515.12596703, -126.89240067,\n",
       "         199.37236352]),\n",
       " -3650.5805651588535)"
      ]
     },
     "execution_count": 52,
     "metadata": {},
     "output_type": "execute_result"
    }
   ],
   "source": [
    "w = lr.coef_\n",
    "b = lr.intercept_\n",
    "w, b"
   ]
  },
  {
   "cell_type": "code",
   "execution_count": 53,
   "id": "5930d21c",
   "metadata": {},
   "outputs": [
    {
     "data": {
      "text/plain": [
       "array([2893.77391339])"
      ]
     },
     "execution_count": 53,
     "metadata": {},
     "output_type": "execute_result"
    }
   ],
   "source": [
    "lr.predict([[5 , 6, 7, 8, 1]])"
   ]
  },
  {
   "cell_type": "code",
   "execution_count": null,
   "id": "af4a5acb",
   "metadata": {},
   "outputs": [],
   "source": []
  }
 ],
 "metadata": {
  "kernelspec": {
   "display_name": "Python 3 (ipykernel)",
   "language": "python",
   "name": "python3"
  },
  "language_info": {
   "codemirror_mode": {
    "name": "ipython",
    "version": 3
   },
   "file_extension": ".py",
   "mimetype": "text/x-python",
   "name": "python",
   "nbconvert_exporter": "python",
   "pygments_lexer": "ipython3",
   "version": "3.9.13"
  }
 },
 "nbformat": 4,
 "nbformat_minor": 5
}
